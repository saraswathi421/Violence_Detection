{
  "nbformat": 4,
  "nbformat_minor": 0,
  "metadata": {
    "colab": {
      "name": "train-violence-vgg.ipynb",
      "provenance": [],
      "collapsed_sections": []
    },
    "kernelspec": {
      "name": "python3",
      "display_name": "Python 3"
    },
    "accelerator": "GPU"
  },
  "cells": [
    {
      "cell_type": "markdown",
      "metadata": {
        "id": "j32j8QrBKIKQ",
        "colab_type": "text"
      },
      "source": [
        "# Violence Recognition"
      ]
    },
    {
      "cell_type": "code",
      "metadata": {
        "id": "cKc5Xl1D-P_w",
        "colab_type": "code",
        "colab": {
          "base_uri": "https://localhost:8080/",
          "height": 128
        },
        "outputId": "97ae95ab-203c-4cb8-d1ad-f4d459a6dfc9"
      },
      "source": [
        "from google.colab import drive\n",
        "drive.mount('/content/drive/')"
      ],
      "execution_count": 1,
      "outputs": [
        {
          "output_type": "stream",
          "text": [
            "Go to this URL in a browser: https://accounts.google.com/o/oauth2/auth?client_id=947318989803-6bn6qk8qdgf4n4g3pfee6491hc0brc4i.apps.googleusercontent.com&redirect_uri=urn%3aietf%3awg%3aoauth%3a2.0%3aoob&response_type=code&scope=email%20https%3a%2f%2fwww.googleapis.com%2fauth%2fdocs.test%20https%3a%2f%2fwww.googleapis.com%2fauth%2fdrive%20https%3a%2f%2fwww.googleapis.com%2fauth%2fdrive.photos.readonly%20https%3a%2f%2fwww.googleapis.com%2fauth%2fpeopleapi.readonly\n",
            "\n",
            "Enter your authorization code:\n",
            "··········\n",
            "Mounted at /content/drive/\n"
          ],
          "name": "stdout"
        }
      ]
    },
    {
      "cell_type": "code",
      "metadata": {
        "id": "WCsWi1m2-Rsi",
        "colab_type": "code",
        "colab": {
          "base_uri": "https://localhost:8080/",
          "height": 35
        },
        "outputId": "3b7b8c6b-f8e5-455d-c99b-0be49d944e44"
      },
      "source": [
        "cd /content/drive/My\\ Drive/Violence_detection/"
      ],
      "execution_count": 2,
      "outputs": [
        {
          "output_type": "stream",
          "text": [
            "/content/drive/My Drive/Violence_detection\n"
          ],
          "name": "stdout"
        }
      ]
    },
    {
      "cell_type": "markdown",
      "metadata": {
        "id": "H7seGFzlKf9m",
        "colab_type": "text"
      },
      "source": [
        "## Keras Sequence Video generators for Training data\n",
        "\n",
        "**SlidingFrameGenerator** that takes frames with decay for the entire video or with a sequence time\n",
        "\n",
        "Used SlidingFrameGenerator to train this model. It will give you more samples because we can get shifted frame.\n",
        "\n",
        "Instead of taking frames from zero to end, we can define the “time of movement” (sequence_time) and get N frames in that time.\n",
        "\n",
        "The VideoFrameGenerator can be installed via pip command:"
      ]
    },
    {
      "cell_type": "code",
      "metadata": {
        "id": "UEtaMXT8-aVM",
        "colab_type": "code",
        "colab": {
          "base_uri": "https://localhost:8080/",
          "height": 455
        },
        "outputId": "30d0d32c-86e6-45f7-b586-d680823084cf"
      },
      "source": [
        "!pip install keras-video-generators"
      ],
      "execution_count": 4,
      "outputs": [
        {
          "output_type": "stream",
          "text": [
            "Collecting keras-video-generators\n",
            "  Downloading https://files.pythonhosted.org/packages/d9/98/ff550be6084b0537f1340783a6850a2f2b62b87273472a56c17ed84bcdb3/keras-video-generators-1.0.14.tar.gz\n",
            "Requirement already satisfied: keras>=2 in /usr/local/lib/python3.6/dist-packages (from keras-video-generators) (2.3.1)\n",
            "Requirement already satisfied: numpy in /usr/local/lib/python3.6/dist-packages (from keras-video-generators) (1.18.5)\n",
            "Requirement already satisfied: opencv-python in /usr/local/lib/python3.6/dist-packages (from keras-video-generators) (4.1.2.30)\n",
            "Requirement already satisfied: matplotlib in /usr/local/lib/python3.6/dist-packages (from keras-video-generators) (3.2.2)\n",
            "Requirement already satisfied: keras-preprocessing>=1.0.5 in /usr/local/lib/python3.6/dist-packages (from keras>=2->keras-video-generators) (1.1.2)\n",
            "Requirement already satisfied: scipy>=0.14 in /usr/local/lib/python3.6/dist-packages (from keras>=2->keras-video-generators) (1.4.1)\n",
            "Requirement already satisfied: keras-applications>=1.0.6 in /usr/local/lib/python3.6/dist-packages (from keras>=2->keras-video-generators) (1.0.8)\n",
            "Requirement already satisfied: h5py in /usr/local/lib/python3.6/dist-packages (from keras>=2->keras-video-generators) (2.10.0)\n",
            "Requirement already satisfied: six>=1.9.0 in /usr/local/lib/python3.6/dist-packages (from keras>=2->keras-video-generators) (1.12.0)\n",
            "Requirement already satisfied: pyyaml in /usr/local/lib/python3.6/dist-packages (from keras>=2->keras-video-generators) (3.13)\n",
            "Requirement already satisfied: pyparsing!=2.0.4,!=2.1.2,!=2.1.6,>=2.0.1 in /usr/local/lib/python3.6/dist-packages (from matplotlib->keras-video-generators) (2.4.7)\n",
            "Requirement already satisfied: cycler>=0.10 in /usr/local/lib/python3.6/dist-packages (from matplotlib->keras-video-generators) (0.10.0)\n",
            "Requirement already satisfied: python-dateutil>=2.1 in /usr/local/lib/python3.6/dist-packages (from matplotlib->keras-video-generators) (2.8.1)\n",
            "Requirement already satisfied: kiwisolver>=1.0.1 in /usr/local/lib/python3.6/dist-packages (from matplotlib->keras-video-generators) (1.2.0)\n",
            "Building wheels for collected packages: keras-video-generators\n",
            "  Building wheel for keras-video-generators (setup.py) ... \u001b[?25l\u001b[?25hdone\n",
            "  Created wheel for keras-video-generators: filename=keras_video_generators-1.0.14-cp36-none-any.whl size=12883 sha256=7f1e52f711d344bd4d588f953d2717407558e03a34831a525a2c622a336ec14e\n",
            "  Stored in directory: /root/.cache/pip/wheels/20/b7/76/8674d46fc4777c09e5aa7b065d4e356d90f12ec409a6144bbb\n",
            "Successfully built keras-video-generators\n",
            "Installing collected packages: keras-video-generators\n",
            "Successfully installed keras-video-generators-1.0.14\n"
          ],
          "name": "stdout"
        }
      ]
    },
    {
      "cell_type": "code",
      "metadata": {
        "id": "fcW5_wc--cUi",
        "colab_type": "code",
        "colab": {
          "base_uri": "https://localhost:8080/",
          "height": 35
        },
        "outputId": "9bbed0d7-95be-429f-b00a-7915714b3de8"
      },
      "source": [
        "import os\n",
        "import glob\n",
        "from keras_video import VideoFrameGenerator\n",
        "from keras_video import SlidingFrameGenerator\n",
        "classes = [i.split(os.path.sep)[1] for i in glob.glob('Res_videos/*')]\n",
        "classes.sort() "
      ],
      "execution_count": null,
      "outputs": [
        {
          "output_type": "stream",
          "text": [
            "Using TensorFlow backend.\n"
          ],
          "name": "stderr"
        }
      ]
    },
    {
      "cell_type": "markdown",
      "metadata": {
        "id": "besWFORjRpK4",
        "colab_type": "text"
      },
      "source": [
        "Video frame generator can take ImageDataGenerator to produce data augmented frameset from the input videos."
      ]
    },
    {
      "cell_type": "code",
      "metadata": {
        "id": "Mtjyce4f-esE",
        "colab_type": "code",
        "colab": {
          "base_uri": "https://localhost:8080/",
          "height": 146
        },
        "outputId": "6438dec8-1d0f-4a08-e62b-3ab4c3f147e1"
      },
      "source": [
        "import keras\n",
        "SIZE = (224, 224)\n",
        "H, W = 224, 224\n",
        "CHANNELS = 3\n",
        "NBFRAME = 8\n",
        "BS = 4\n",
        "\n",
        "# pattern to get videos and classes\n",
        "glob_pattern='Res_videos/{classname}/*'\n",
        "# for data augmentation\n",
        "data_aug = keras.preprocessing.image.ImageDataGenerator(\n",
        "    zoom_range=[0.5,0.9],\n",
        "    horizontal_flip=True,\n",
        "    rotation_range=8,\n",
        "    width_shift_range=.2,\n",
        "    height_shift_range=.2)\n",
        "\n",
        "train = SlidingFrameGenerator(\n",
        "    sequence_time = 1,\n",
        "    classes=classes, \n",
        "    glob_pattern=glob_pattern,\n",
        "    nb_frames=NBFRAME,\n",
        "    split=.1, \n",
        "    shuffle=True,\n",
        "    batch_size=BS,\n",
        "    target_shape=SIZE,\n",
        "    nb_channel=CHANNELS,\n",
        "    transformation=data_aug,\n",
        "    use_frame_cache=True)"
      ],
      "execution_count": null,
      "outputs": [
        {
          "output_type": "stream",
          "text": [
            "Warning, `split` argument is replaced by `split_val`, please condider to change your source code.The `split` argument will be removed in future releases.\n"
          ],
          "name": "stderr"
        },
        {
          "output_type": "stream",
          "text": [
            "class nonviolence, validation count: 57, train count: 519\n",
            "class violence, validation count: 130, train count: 1174\n",
            "Total data: 2 classes for 1693 files for train\n",
            "Checking files to find possible sequences, please wait...\n",
            "For 1693 files, I found 107711 possible sequence samples\n"
          ],
          "name": "stdout"
        }
      ]
    },
    {
      "cell_type": "code",
      "metadata": {
        "id": "jEfb30Y2-gvh",
        "colab_type": "code",
        "colab": {
          "base_uri": "https://localhost:8080/",
          "height": 72
        },
        "outputId": "a05ed5ab-2745-42e0-ab76-07345e98ead6"
      },
      "source": [
        "valid = train.get_validation_generator()"
      ],
      "execution_count": null,
      "outputs": [
        {
          "output_type": "stream",
          "text": [
            "Total data: 2 classes for 187 files for validation\n",
            "Checking files to find possible sequences, please wait...\n",
            "For 187 files, I found 11730 possible sequence samples\n"
          ],
          "name": "stdout"
        }
      ]
    },
    {
      "cell_type": "code",
      "metadata": {
        "id": "FECQXku2A093",
        "colab_type": "code",
        "colab": {}
      },
      "source": [
        "import keras_video.utils\n",
        "keras_video.utils.show_sample(train,random=True)"
      ],
      "execution_count": null,
      "outputs": []
    },
    {
      "cell_type": "markdown",
      "metadata": {
        "id": "_0ZKfvujR7g0",
        "colab_type": "text"
      },
      "source": [
        "# **Training**\n",
        "Pre-trained VGG network used for feature extraction."
      ]
    },
    {
      "cell_type": "code",
      "metadata": {
        "id": "duEPHx30-Rb4",
        "colab_type": "code",
        "colab": {
          "base_uri": "https://localhost:8080/",
          "height": 1000
        },
        "outputId": "2173b338-16a2-4150-eecf-f00b23c0a606"
      },
      "source": [
        "import keras.backend as K\n",
        "from keras.layers import Bidirectional\n",
        "from keras.layers import TimeDistributed, GRU, Dense, Dropout, LSTM, ConvLSTM2D\n",
        "\n",
        "def f1_score(y_true, y_pred): #taken from old keras source code\n",
        "    true_positives = K.sum(K.round(K.clip(y_true * y_pred, 0, 1)))\n",
        "    possible_positives = K.sum(K.round(K.clip(y_true, 0, 1)))\n",
        "    predicted_positives = K.sum(K.round(K.clip(y_pred, 0, 1)))\n",
        "    precision = true_positives / (predicted_positives + K.epsilon())\n",
        "    recall = true_positives / (possible_positives + K.epsilon())\n",
        "    f1_val = 2*(precision*recall)/(precision+recall+K.epsilon())\n",
        "    return f1_val\n",
        "\n",
        "def build_vggnet(shape=(H, W, 3)):\n",
        "    model = keras.applications.VGG16(include_top=False, input_shape=shape, weights='imagenet')\n",
        "    for layer in model.layers:\n",
        "        layer.trainable = False\n",
        "    output = keras.layers.GlobalMaxPool2D()\n",
        "    return keras.Sequential([model,output])\n",
        "\n",
        "CHANNELS = 3\n",
        "\n",
        "def action_model(shape=(NBFRAME, H, W, 3), nbout=2):\n",
        "    convnet = build_vggnet(shape[1:])\n",
        "    model = keras.Sequential()\n",
        "    model.add(TimeDistributed(convnet, input_shape=shape))\n",
        "    model.add(Bidirectional(LSTM(64, return_sequences = True)))\n",
        "    model.add(Dropout(0.5))\n",
        "    model.add(LSTM(64))\n",
        "    model.add(Dense(1024, activation='relu'))\n",
        "    model.add(Dropout(0.5))\n",
        "    model.add(Dense(512, activation='relu'))\n",
        "    model.add(Dropout(0.5))\n",
        "    model.add(Dense(128, activation='relu'))\n",
        "    model.add(Dropout(0.5))\n",
        "    model.add(Dense(64, activation='relu'))\n",
        "    model.add(Dense(nbout, activation='sigmoid'))\n",
        "    return model\n",
        "\n",
        "INSHAPE=(NBFRAME,) + SIZE + (CHANNELS,) # (5, 224, 224, 3)\n",
        "model = action_model(INSHAPE, len(classes))\n",
        "model.summary()\n",
        "optimizer = keras.optimizers.Adam(learning_rate=0.001) #keras.optimizers.SGD()\n",
        "model.compile(\n",
        "    optimizer,\n",
        "    'binary_crossentropy',\n",
        "    metrics=['acc',f1_score]\n",
        ")\n",
        "\n",
        "model.load_weights('NCKPT/weights-new8ND.40-0.16.hdf5')\n",
        "\n",
        "EPOCHS=1000\n",
        "\n",
        "callbacks = [\n",
        "    keras.callbacks.ReduceLROnPlateau(monitor='val_loss', factor=0.2, patience=5, verbose=1),\n",
        "    keras.callbacks.ModelCheckpoint(\n",
        "        'July16/VGG-SND.{epoch:02d}-{val_loss:.2f}.hdf5', save_best_only=True,\n",
        "        verbose=1),\n",
        "]\n",
        "model.fit_generator(\n",
        "    train,\n",
        "    validation_data=valid,\n",
        "    verbose=1,\n",
        "    epochs=EPOCHS,\n",
        "    steps_per_epoch=6000,\n",
        "    callbacks=callbacks\n",
        ")\n"
      ],
      "execution_count": null,
      "outputs": [
        {
          "output_type": "stream",
          "text": [
            "Model: \"sequential_4\"\n",
            "_________________________________________________________________\n",
            "Layer (type)                 Output Shape              Param #   \n",
            "=================================================================\n",
            "time_distributed_2 (TimeDist (None, 8, 512)            14714688  \n",
            "_________________________________________________________________\n",
            "bidirectional_2 (Bidirection (None, 8, 128)            295424    \n",
            "_________________________________________________________________\n",
            "dropout_5 (Dropout)          (None, 8, 128)            0         \n",
            "_________________________________________________________________\n",
            "lstm_4 (LSTM)                (None, 64)                49408     \n",
            "_________________________________________________________________\n",
            "dense_6 (Dense)              (None, 1024)              66560     \n",
            "_________________________________________________________________\n",
            "dropout_6 (Dropout)          (None, 1024)              0         \n",
            "_________________________________________________________________\n",
            "dense_7 (Dense)              (None, 512)               524800    \n",
            "_________________________________________________________________\n",
            "dropout_7 (Dropout)          (None, 512)               0         \n",
            "_________________________________________________________________\n",
            "dense_8 (Dense)              (None, 128)               65664     \n",
            "_________________________________________________________________\n",
            "dropout_8 (Dropout)          (None, 128)               0         \n",
            "_________________________________________________________________\n",
            "dense_9 (Dense)              (None, 64)                8256      \n",
            "_________________________________________________________________\n",
            "dense_10 (Dense)             (None, 2)                 130       \n",
            "=================================================================\n",
            "Total params: 15,724,930\n",
            "Trainable params: 1,010,242\n",
            "Non-trainable params: 14,714,688\n",
            "_________________________________________________________________\n",
            "Epoch 1/1000\n",
            "6000/6000 [==============================] - 5034s 839ms/step - loss: 0.5772 - acc: 0.7198 - f1_score: 0.7192 - val_loss: 0.5286 - val_acc: 0.7386 - val_f1_score: 0.7395\n",
            "\n",
            "Epoch 00001: val_loss improved from inf to 0.52865, saving model to July16/VGG-SND.01-0.53.hdf5\n",
            "Epoch 2/1000\n",
            "6000/6000 [==============================] - 4979s 830ms/step - loss: 0.5501 - acc: 0.7341 - f1_score: 0.7340 - val_loss: 0.5205 - val_acc: 0.7481 - val_f1_score: 0.7481\n",
            "\n",
            "Epoch 00002: val_loss improved from 0.52865 to 0.52045, saving model to July16/VGG-SND.02-0.52.hdf5\n",
            "Epoch 3/1000\n",
            "6000/6000 [==============================] - 4973s 829ms/step - loss: 0.5208 - acc: 0.7566 - f1_score: 0.7561 - val_loss: 0.2382 - val_acc: 0.7317 - val_f1_score: 0.7317\n",
            "\n",
            "Epoch 00003: val_loss improved from 0.52045 to 0.23816, saving model to July16/VGG-SND.03-0.24.hdf5\n",
            "Epoch 4/1000\n",
            "6000/6000 [==============================] - 4899s 817ms/step - loss: 0.5032 - acc: 0.7667 - f1_score: 0.7665 - val_loss: 0.5352 - val_acc: 0.7308 - val_f1_score: 0.7308\n",
            "\n",
            "Epoch 00004: val_loss did not improve from 0.23816\n",
            "Epoch 5/1000\n",
            "6000/6000 [==============================] - 4919s 820ms/step - loss: 0.4882 - acc: 0.7740 - f1_score: 0.7739 - val_loss: 0.7630 - val_acc: 0.7292 - val_f1_score: 0.7282\n",
            "\n",
            "Epoch 00005: val_loss did not improve from 0.23816\n",
            "Epoch 6/1000\n",
            "6000/6000 [==============================] - 4903s 817ms/step - loss: 0.4794 - acc: 0.7774 - f1_score: 0.7773 - val_loss: 0.7578 - val_acc: 0.7347 - val_f1_score: 0.7347\n",
            "\n",
            "Epoch 00006: val_loss did not improve from 0.23816\n",
            "Epoch 7/1000\n",
            "5248/6000 [=========================>....] - ETA: 8:11 - loss: 0.4597 - acc: 0.7898 - f1_score: 0.7896"
          ],
          "name": "stdout"
        }
      ]
    },
    {
      "cell_type": "code",
      "metadata": {
        "id": "xcVAWT28A54c",
        "colab_type": "code",
        "colab": {}
      },
      "source": [
        ""
      ],
      "execution_count": null,
      "outputs": []
    },
    {
      "cell_type": "markdown",
      "metadata": {
        "id": "GznIwWUMDF7_",
        "colab_type": "text"
      },
      "source": [
        "# **Inference**\n",
        "Testing the model using test data\n",
        "Test Data location : 'TData/'\n"
      ]
    },
    {
      "cell_type": "code",
      "metadata": {
        "id": "-K_ufq54DOmf",
        "colab_type": "code",
        "colab": {
          "base_uri": "https://localhost:8080/",
          "height": 35
        },
        "outputId": "2b14b3e6-ae95-4e7c-f8e0-7aa87477020c"
      },
      "source": [
        "import os\n",
        "import glob\n",
        "from keras_video import VideoFrameGenerator\n",
        "from keras_video import SlidingFrameGenerator\n",
        "classes = [i.split(os.path.sep)[1] for i in glob.glob('TData/*')]\n",
        "classes.sort()"
      ],
      "execution_count": 5,
      "outputs": [
        {
          "output_type": "stream",
          "text": [
            "Using TensorFlow backend.\n"
          ],
          "name": "stderr"
        }
      ]
    },
    {
      "cell_type": "markdown",
      "metadata": {
        "id": "qIGNAd2sTSQM",
        "colab_type": "text"
      },
      "source": [
        "Loding the test data using video frame generator"
      ]
    },
    {
      "cell_type": "code",
      "metadata": {
        "id": "8bnIPzri8mCX",
        "colab_type": "code",
        "colab": {}
      },
      "source": [
        ""
      ],
      "execution_count": null,
      "outputs": []
    },
    {
      "cell_type": "markdown",
      "metadata": {
        "id": "iezefvElS5Ee",
        "colab_type": "text"
      },
      "source": [
        "Loading the checkpoint and testing"
      ]
    },
    {
      "cell_type": "code",
      "metadata": {
        "id": "THzbEj1dDZ3C",
        "colab_type": "code",
        "colab": {
          "base_uri": "https://localhost:8080/",
          "height": 74
        },
        "outputId": "1482860e-c8c7-4ed0-b3e7-27e70fc18d6a"
      },
      "source": [
        "import keras.backend as K\n",
        "from keras.layers import Bidirectional\n",
        "from keras.layers import TimeDistributed, GRU, Dense, Dropout, LSTM\n",
        "\n",
        "def f1_score(y_true, y_pred): #taken from old keras source code\n",
        "    true_positives = K.sum(K.round(K.clip(y_true * y_pred, 0, 1)))\n",
        "    possible_positives = K.sum(K.round(K.clip(y_true, 0, 1)))\n",
        "    predicted_positives = K.sum(K.round(K.clip(y_pred, 0, 1)))\n",
        "    precision = true_positives / (predicted_positives + K.epsilon())\n",
        "    recall = true_positives / (possible_positives + K.epsilon())\n",
        "    f1_val = 2*(precision*recall)/(precision+recall+K.epsilon())\n",
        "    return f1_val\n",
        "\n",
        "\n",
        "def build_vggnet(shape=(H, W, 3)):\n",
        "    model = keras.applications.VGG16(\n",
        "        include_top=False,\n",
        "        input_shape=shape,\n",
        "        weights='imagenet')\n",
        "    # Keep 9 layers to train﻿﻿\n",
        "    # trainable = 9\n",
        "    for layer in model.layers:\n",
        "        layer.trainable = False\n",
        "    # for layer in model.layers[-trainable:]:\n",
        "    #     layer.trainable = True\n",
        "    output = keras.layers.GlobalMaxPool2D()\n",
        "    return keras.Sequential([model, output])\n",
        "CHANNELS = 3\n",
        "\n",
        "def action_model(shape=(NBFRAME, H, W, 3), nbout=2):\n",
        "    convnet = build_vggnet(shape[1:])\n",
        "    # then create our final model\n",
        "    model = keras.Sequential()\n",
        "    model.add(TimeDistributed(convnet, input_shape=shape))\n",
        "    # here, you can also use GRU or LSTM\n",
        "    model.add(Bidirectional(LSTM(64, return_sequences = True)))\n",
        "    model.add(Dropout(0.5))\n",
        "    model.add(LSTM(64))\n",
        "    # and finally, we make a decision network\n",
        "    model.add(Dense(1024, activation='relu'))\n",
        "    model.add(Dropout(0.5))\n",
        "    model.add(Dense(512, activation='relu'))\n",
        "    model.add(Dropout(0.5))\n",
        "    model.add(Dense(128, activation='relu'))\n",
        "    model.add(Dropout(0.5))\n",
        "    model.add(Dense(64, activation='relu'))\n",
        "    model.add(Dense(nbout, activation='sigmoid'))\n",
        "    return model\n",
        "\n",
        "INSHAPE=(NBFRAME,) + SIZE + (CHANNELS,) # (5, 224, 224, 3)\n",
        "model = action_model(INSHAPE, len(classes))\n",
        "\n",
        "optimizer = keras.optimizers.Adam(learning_rate=0.001) #keras.optimizers.SGD()\n",
        "model.compile(\n",
        "    optimizer,\n",
        "    'binary_crossentropy',\n",
        "    metrics=['acc',f1_score]\n",
        ")\n",
        "\n",
        "model.load_weights('July16/VGG-SND.03-0.24.hdf5')"
      ],
      "execution_count": 7,
      "outputs": [
        {
          "output_type": "stream",
          "text": [
            "Downloading data from https://github.com/fchollet/deep-learning-models/releases/download/v0.1/vgg16_weights_tf_dim_ordering_tf_kernels_notop.h5\n",
            "58892288/58889256 [==============================] - 3s 0us/step\n"
          ],
          "name": "stdout"
        }
      ]
    },
    {
      "cell_type": "code",
      "metadata": {
        "id": "b6xBJDKp-dJ-",
        "colab_type": "code",
        "colab": {
          "base_uri": "https://localhost:8080/",
          "height": 72
        },
        "outputId": "a75d99e8-03ec-4db7-a004-3ba7153afec1"
      },
      "source": [
        "import keras\n",
        "SIZE = (224, 224)\n",
        "H, W = 224, 224\n",
        "CHANNELS = 3\n",
        "NBFRAME = 8\n",
        "BS = 1\n",
        "# pattern to get videos and classes\n",
        "glob_pattern='TData/{classname}/*'\n",
        "# for data augmentation\n",
        "\n",
        "# Create video frame generator\n",
        "test_data = SlidingFrameGenerator(\n",
        "    sequence_time = 1,\n",
        "    classes=classes, \n",
        "    glob_pattern=glob_pattern,\n",
        "    nb_frames=NBFRAME,\n",
        "    shuffle=False,\n",
        "    batch_size=BS,\n",
        "    target_shape=SIZE,\n",
        "    nb_channel=CHANNELS,\n",
        "    use_frame_cache=True)"
      ],
      "execution_count": 78,
      "outputs": [
        {
          "output_type": "stream",
          "text": [
            "Total data: 2 classes for 36 files for train\n",
            "Checking files to find possible sequences, please wait...\n",
            "For 36 files, I found 2489 possible sequence samples\n"
          ],
          "name": "stdout"
        }
      ]
    },
    {
      "cell_type": "code",
      "metadata": {
        "id": "fWfEbpk2D_YY",
        "colab_type": "code",
        "colab": {
          "base_uri": "https://localhost:8080/",
          "height": 72
        },
        "outputId": "eaec2da2-aea4-47a5-cf93-9bbcc92dfb72"
      },
      "source": [
        "scores = model.evaluate_generator(test_data) #1514 testing images\n",
        "print(\"Loss = \", scores[0])\n",
        "print(\"Accuracy = \", scores[1])\n",
        "print(\"F1 Score = \", scores[2])"
      ],
      "execution_count": 79,
      "outputs": [
        {
          "output_type": "stream",
          "text": [
            "Loss =  0.12481525540351868\n",
            "Accuracy =  0.732824444770813\n",
            "F1 Score =  0.7328243851661682\n"
          ],
          "name": "stdout"
        }
      ]
    },
    {
      "cell_type": "code",
      "metadata": {
        "id": "MswmCLNd48dz",
        "colab_type": "code",
        "colab": {}
      },
      "source": [
        "Y_pred = model.predict_generator(test_data)"
      ],
      "execution_count": 80,
      "outputs": []
    },
    {
      "cell_type": "code",
      "metadata": {
        "id": "McQQLNmT5oJ0",
        "colab_type": "code",
        "colab": {}
      },
      "source": [
        "import numpy as np\n",
        "y_pred = np.argmax(Y_pred, axis=1)"
      ],
      "execution_count": 81,
      "outputs": []
    },
    {
      "cell_type": "code",
      "metadata": {
        "id": "9Fzx9dkP5sMV",
        "colab_type": "code",
        "colab": {
          "base_uri": "https://localhost:8080/",
          "height": 54
        },
        "outputId": "b3d9bec3-fe43-4765-8757-2a14a306d5e9"
      },
      "source": [
        "print(type(y_pred))\n",
        "print(len(y_pred))"
      ],
      "execution_count": 82,
      "outputs": [
        {
          "output_type": "stream",
          "text": [
            "<class 'numpy.ndarray'>\n",
            "2489\n"
          ],
          "name": "stdout"
        }
      ]
    },
    {
      "cell_type": "code",
      "metadata": {
        "id": "EP0PqPMs-TE5",
        "colab_type": "code",
        "colab": {
          "base_uri": "https://localhost:8080/",
          "height": 35
        },
        "outputId": "97e4b050-9c89-4893-8964-733b2518091e"
      },
      "source": [
        "y_label = []\n",
        "for i in range(len(y_pred)):\n",
        "  # print(np.argmax(test_data.__getitem__(i)[1],axis=1)[0],test_data.__getitem__(i)[1])\n",
        "  y_label.append(np.argmax(test_data.__getitem__(i)[1],axis=1)[0])\n",
        "y_label = np.array(y_label)\n",
        "print(y_label)"
      ],
      "execution_count": 83,
      "outputs": [
        {
          "output_type": "stream",
          "text": [
            "[0 0 0 ... 1 1 1]\n"
          ],
          "name": "stdout"
        }
      ]
    },
    {
      "cell_type": "code",
      "metadata": {
        "id": "eGPfG-qKDIPZ",
        "colab_type": "code",
        "colab": {}
      },
      "source": [
        "import itertools\n",
        "def plot_confusion_matrix(cm, classes,\n",
        "                        normalize=False,\n",
        "                        title='Confusion matrix',\n",
        "                        cmap=plt.cm.Blues):\n",
        "    \"\"\"\n",
        "    This function prints and plots the confusion matrix.\n",
        "    Normalization can be applied by setting `normalize=True`.\n",
        "    \"\"\"\n",
        "    plt.imshow(cm, interpolation='nearest', cmap=cmap)\n",
        "    plt.title(title)\n",
        "    plt.colorbar()\n",
        "    tick_marks = np.arange(len(classes))\n",
        "    plt.xticks(tick_marks, classes, rotation=45)\n",
        "    plt.yticks(tick_marks, classes)\n",
        "\n",
        "    if normalize:\n",
        "        cm = cm.astype('float') / cm.sum(axis=1)[:, np.newaxis]\n",
        "        print(\"Normalized confusion matrix\")\n",
        "    else:\n",
        "        print('Confusion matrix, without normalization')\n",
        "\n",
        "    print(cm)\n",
        "\n",
        "    thresh = cm.max() / 2.\n",
        "    for i, j in itertools.product(range(cm.shape[0]), range(cm.shape[1])):\n",
        "        plt.text(j, i, cm[i, j],\n",
        "            horizontalalignment=\"center\",\n",
        "            color=\"white\" if cm[i, j] > thresh else \"black\")\n",
        "\n",
        "    plt.tight_layout()\n",
        "    plt.ylabel('True label')\n",
        "    plt.xlabel('Predicted label')"
      ],
      "execution_count": 76,
      "outputs": []
    },
    {
      "cell_type": "code",
      "metadata": {
        "id": "c3ehhhzT5xoT",
        "colab_type": "code",
        "colab": {}
      },
      "source": [
        "from sklearn.metrics import classification_report, confusion_matrix"
      ],
      "execution_count": 15,
      "outputs": []
    },
    {
      "cell_type": "code",
      "metadata": {
        "id": "du4z1nxuDOR2",
        "colab_type": "code",
        "colab": {
          "base_uri": "https://localhost:8080/",
          "height": 365
        },
        "outputId": "3ae49cc9-4e68-416a-c7af-cf3488d1ddb5"
      },
      "source": [
        "cm_plot_labels = ['nonviolence', 'violence']\n",
        "plot_confusion_matrix(cm=cm, classes=cm_plot_labels, title='Confusion Matrix')"
      ],
      "execution_count": 85,
      "outputs": [
        {
          "output_type": "stream",
          "text": [
            "Confusion matrix, without normalization\n",
            "[[863 501]\n",
            " [164 961]]\n"
          ],
          "name": "stdout"
        },
        {
          "output_type": "display_data",
          "data": {
            "image/png": "[encoded data removed]",
            "text/plain": [
              "<Figure size 432x288 with 2 Axes>"
            ]
          },
          "metadata": {
            "tags": [],
            "needs_background": "light"
          }
        }
      ]
    },
    {
      "cell_type": "markdown",
      "metadata": {
        "id": "C8izNzY1TBr6",
        "colab_type": "text"
      },
      "source": [
        "Got 72% accuracy on the test set"
      ]
    },
    {
      "cell_type": "markdown",
      "metadata": {
        "id": "pu_0Zx7gUkSr",
        "colab_type": "text"
      },
      "source": [
        "### Testing - part of HTTP Live Streaming video"
      ]
    },
    {
      "cell_type": "code",
      "metadata": {
        "id": "mEOkml4LETsW",
        "colab_type": "code",
        "colab": {
          "base_uri": "https://localhost:8080/",
          "height": 467
        },
        "outputId": "cb49aa3d-e959-4c50-a038-577530a6fa97"
      },
      "source": [
        "import cv2\n",
        "import sys\n",
        "import time\n",
        "import numpy as np\n",
        "from time import sleep\n",
        "from matplotlib import pyplot as plt\n",
        "from IPython.display import clear_output\n",
        "from google.colab.patches import cv2_imshow\n",
        "\n",
        "# VIDEO_URL = 'TData/violence/videoplayback_1_184.mp4'\n",
        "VIDEO_URL = \"http://qthttp.apple.com.edgesuite.net/1010qwoeiuryfg/sl.m3u8\"\n",
        "\n",
        "cap = cv2.VideoCapture(VIDEO_URL)\n",
        "if (cap.isOpened() == False):\n",
        "    print('!!! Unable to open URL')\n",
        "    sys.exit(-1)\n",
        "\n",
        "# retrieve FPS and calculate how long to wait between each frame to be display\n",
        "fps = cap.get(cv2.CAP_PROP_FPS)\n",
        "wait_ms = int(1000/fps)\n",
        "print('FPS:', fps)\n",
        "\n",
        "i = 0\n",
        "image_array = np.array([])\n",
        "status = ''\n",
        "while(True):\n",
        "    # read one frame\n",
        "    ret, frame = cap.read()\n",
        "    if not ret:\n",
        "      break\n",
        "    image = cv2.resize(frame,(H,W))\n",
        "    clear_output()\n",
        "    cv2_imshow(image)\n",
        "    sleep(1)\n",
        "    _,_,C = image.shape\n",
        "    if i%8 == 0:\n",
        "        image_array = image.reshape(1,H, W,C)\n",
        "    else:\n",
        "        image = image.reshape(1,H, W,C)\n",
        "        # print(image_array.shape, image.shape)\n",
        "        image_array = np.concatenate((image_array, image))\n",
        "    if i%8 == 7:\n",
        "        st = time.time()\n",
        "        prediction = model.predict(np.expand_dims(image_array,axis = 0))\n",
        "        print(time.time()-st,'time for prediction')\n",
        "        pred = prediction[0]\n",
        "        print(pred)\n",
        "        val = pred.argmax()\n",
        "        print(val)\n",
        "        if val == 0:\n",
        "          status = 'nonviolence'\n",
        "        else:\n",
        "          status = 'violence'\n",
        "        image_array = np.array([])\n",
        "        print(status)\n",
        "        i = 0\n",
        "        continue\n",
        "    i = i+1"
      ],
      "execution_count": null,
      "outputs": [
        {
          "output_type": "display_data",
          "data": {
            "image/png": "[encoded data removed]",
            "text/plain": [
              "<PIL.Image.Image image mode=RGB size=224x224 at 0x7F853A428AC8>"
            ]
          },
          "metadata": {
            "tags": []
          }
        },
        {
          "output_type": "error",
          "ename": "KeyboardInterrupt",
          "evalue": "ignored",
          "traceback": [
            "\u001b[0;31m---------------------------------------------------------------------------\u001b[0m",
            "\u001b[0;31mKeyboardInterrupt\u001b[0m                         Traceback (most recent call last)",
            "\u001b[0;32m<ipython-input-12-b54fe0df7b78>\u001b[0m in \u001b[0;36m<module>\u001b[0;34m()\u001b[0m\n\u001b[1;32m     32\u001b[0m     \u001b[0mclear_output\u001b[0m\u001b[0;34m(\u001b[0m\u001b[0;34m)\u001b[0m\u001b[0;34m\u001b[0m\u001b[0;34m\u001b[0m\u001b[0m\n\u001b[1;32m     33\u001b[0m     \u001b[0mcv2_imshow\u001b[0m\u001b[0;34m(\u001b[0m\u001b[0mimage\u001b[0m\u001b[0;34m)\u001b[0m\u001b[0;34m\u001b[0m\u001b[0;34m\u001b[0m\u001b[0m\n\u001b[0;32m---> 34\u001b[0;31m     \u001b[0msleep\u001b[0m\u001b[0;34m(\u001b[0m\u001b[0;36m1\u001b[0m\u001b[0;34m)\u001b[0m\u001b[0;34m\u001b[0m\u001b[0;34m\u001b[0m\u001b[0m\n\u001b[0m\u001b[1;32m     35\u001b[0m     \u001b[0m_\u001b[0m\u001b[0;34m,\u001b[0m\u001b[0m_\u001b[0m\u001b[0;34m,\u001b[0m\u001b[0mC\u001b[0m \u001b[0;34m=\u001b[0m \u001b[0mimage\u001b[0m\u001b[0;34m.\u001b[0m\u001b[0mshape\u001b[0m\u001b[0;34m\u001b[0m\u001b[0;34m\u001b[0m\u001b[0m\n\u001b[1;32m     36\u001b[0m     \u001b[0;32mif\u001b[0m \u001b[0mi\u001b[0m\u001b[0;34m%\u001b[0m\u001b[0;36m8\u001b[0m \u001b[0;34m==\u001b[0m \u001b[0;36m0\u001b[0m\u001b[0;34m:\u001b[0m\u001b[0;34m\u001b[0m\u001b[0;34m\u001b[0m\u001b[0m\n",
            "\u001b[0;31mKeyboardInterrupt\u001b[0m: "
          ]
        }
      ]
    }
  ]
}