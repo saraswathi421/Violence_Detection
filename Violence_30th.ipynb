{
 "cells": [
  {
   "cell_type": "markdown",
   "metadata": {},
   "source": [
    "# Violence Recognition\n",
    "    I have manually downloaded violence videos from youtube and split in to small size and scaled all of their resolution to 240 x 320. \n",
    "    I have used \"moviepy\" to do all these video processing and then saved them in to violence and nonviolence folders and kept in Res_videos folder.\n",
    "    I have used the load_files() function in scikit-learn to get the absolute paths of these videos and their respective class labels. These paths will be later used to read the videos in to the sequence of images.\n"
   ]
  },
  {
   "cell_type": "code",
   "execution_count": 12,
   "metadata": {},
   "outputs": [],
   "source": [
    "import os\n",
    "from sklearn.datasets import load_files\n",
    "from sklearn.model_selection import train_test_split"
   ]
  },
  {
   "cell_type": "code",
   "execution_count": 13,
   "metadata": {},
   "outputs": [],
   "source": [
    "raw_data = load_files(os.getcwd() + r'/Res_videos', shuffle=False)"
   ]
  },
  {
   "cell_type": "code",
   "execution_count": 14,
   "metadata": {},
   "outputs": [],
   "source": [
    "files = raw_data['filenames']\n",
    "targets = raw_data['target']"
   ]
  },
  {
   "cell_type": "markdown",
   "metadata": {},
   "source": [
    "    Each video file is associated with its class label (0 - nonviolence, 1 - violence)"
   ]
  },
  {
   "cell_type": "code",
   "execution_count": 50,
   "metadata": {},
   "outputs": [
    {
     "name": "stdout",
     "output_type": "stream",
     "text": [
      "('/mnt/batch/tasks/shared/LS_root/mounts/clusters/compute-device/code/users/smamidala318/Res_videos/violence/VMS_26.mp4', 1)\n",
      "('/mnt/batch/tasks/shared/LS_root/mounts/clusters/compute-device/code/users/smamidala318/Res_videos/violence/videoplayback_4_27.mp4', 1)\n",
      "('/mnt/batch/tasks/shared/LS_root/mounts/clusters/compute-device/code/users/smamidala318/Res_videos/nonviolence/videoplayback_2_178.mp4', 0)\n",
      "('/mnt/batch/tasks/shared/LS_root/mounts/clusters/compute-device/code/users/smamidala318/Res_videos/violence/videoplayback_3_257.mp4', 1)\n",
      "('/mnt/batch/tasks/shared/LS_root/mounts/clusters/compute-device/code/users/smamidala318/Res_videos/violence/videoplayback_3_177.mp4', 1)\n"
     ]
    }
   ],
   "source": [
    "for pair in zip(train_files[:5], train_targets[:5]):\n",
    "    print(pair)"
   ]
  },
  {
   "cell_type": "markdown",
   "metadata": {},
   "source": [
    "    The whole data is randomly split into training and test data, with test data being one-fourth of the total data."
   ]
  },
  {
   "cell_type": "code",
   "execution_count": 45,
   "metadata": {},
   "outputs": [],
   "source": [
    "train_files, test_files, train_targets, test_targets = train_test_split(files, targets, test_size=1/4, random_state=191)"
   ]
  },
  {
   "cell_type": "code",
   "execution_count": null,
   "metadata": {},
   "outputs": [],
   "source": []
  },
  {
   "cell_type": "code",
   "execution_count": 48,
   "metadata": {},
   "outputs": [],
   "source": [
    "valid_files = train_files[400:]\n",
    "valid_targets = train_targets[400:]\n",
    "\n",
    "# Remaining data will be used for training the model\n",
    "train_files = train_files[:400]\n",
    "train_targets = train_targets[:400]"
   ]
  },
  {
   "cell_type": "code",
   "execution_count": 49,
   "metadata": {},
   "outputs": [
    {
     "name": "stdout",
     "output_type": "stream",
     "text": [
      "Total number of videos: 711\n",
      "\n",
      "Number of videos in training data: 400\n",
      "Number of videos in validation data: 100\n",
      "Number of videos in test data: 178\n"
     ]
    }
   ],
   "source": [
    "print('Total number of videos:', len(files))\n",
    "print('\\nNumber of videos in training data:', train_files.shape[0])\n",
    "print('Number of videos in validation data:', valid_files.shape[0])\n",
    "print('Number of videos in test data:', test_files.shape[0])"
   ]
  },
  {
   "cell_type": "markdown",
   "metadata": {},
   "source": [
    "#  Pre-processing the Data\n",
    "\n",
    "## Videos_to_frames\n",
    "    Taking the absolute video paths and returns the sequence of images\n"
   ]
  },
  {
   "cell_type": "code",
   "execution_count": 19,
   "metadata": {},
   "outputs": [],
   "source": [
    "import os\n",
    "import cv2\n",
    "import numpy as np\n",
    "from skvideo.utils import rgb2gray\n",
    "from PIL import Image\n",
    "from imutils.video import count_frames\n",
    "\n",
    "def videos_to_frames(video_paths):\n",
    "    # Height, Width, C = 240, 360, 3\n",
    "    DataSet = np.array([])\n",
    "    \n",
    "    for j in range(len(video_paths)):\n",
    "        _video_path = video_paths[j]\n",
    "        frame_count = count_frames(_video_path, override=False)\n",
    "        skip_frames = int(frame_count/4)\n",
    "        data = np.array([])\n",
    "        videoCapture = cv2.VideoCapture(_video_path)\n",
    "        videoCapture.set(cv2.CAP_PROP_POS_MSEC,1)\n",
    "        flag, frame = videoCapture.read()\n",
    "        Height, Width, C = frame.shape\n",
    "        count, C = 0, 3\n",
    "        for i in range(frame_count-1):\n",
    "            flag, frame = videoCapture.read()\n",
    "            if flag:\n",
    "              image = frame.copy()\n",
    "            else:\n",
    "              print('failed !!!',count)\n",
    "            if flag:\n",
    "                if count == 0:\n",
    "                    data1 = image.reshape(1,Height,Width,C)\n",
    "                else:\n",
    "                  if count % skip_frames == 0:\n",
    "                    data1 = np.concatenate((data1, image.reshape(1,Height,Width,C)))\n",
    "            else:\n",
    "                image = np.zeros((1,Height,Width,C))\n",
    "                data1 = np.concatenate((data1,image))\n",
    "            count += 1\n",
    "            if len(data1) == 4:\n",
    "              break\n",
    "        \n",
    "        data = np.array(data1)\n",
    "        if j == 0:\n",
    "            DataSet = data.reshape(1,data.shape[0], data.shape[1], data.shape[2],data.shape[3])\n",
    "        else:\n",
    "            DataSet = np.concatenate((DataSet, data.reshape(1, data.shape[0], data.shape[1], data.shape[2],data.shape[3])))\n",
    "    return DataSet\n"
   ]
  },
  {
   "cell_type": "code",
   "execution_count": null,
   "metadata": {},
   "outputs": [],
   "source": []
  },
  {
   "cell_type": "code",
   "execution_count": null,
   "metadata": {},
   "outputs": [],
   "source": [
    "!pip install imutils"
   ]
  },
  {
   "cell_type": "markdown",
   "metadata": {},
   "source": [
    "# Normalization\n",
    "    Normalizing the image pixel values in to the range (-1 to 1)\n",
    "    Normalization will be usefull to get better results from the network"
   ]
  },
  {
   "cell_type": "code",
   "execution_count": 20,
   "metadata": {},
   "outputs": [],
   "source": [
    "from keras.utils import to_categorical\n",
    "X_train = videos_to_frames(train_files)\n",
    "y_train = train_targets\n",
    "X_train = ((X_train/255.0)-0.5)*2 #sc.fit_transform(X_train)\n",
    "X_train = X_train.astype(np.float32)"
   ]
  },
  {
   "cell_type": "code",
   "execution_count": null,
   "metadata": {},
   "outputs": [],
   "source": []
  },
  {
   "cell_type": "code",
   "execution_count": 57,
   "metadata": {},
   "outputs": [
    {
     "name": "stderr",
     "output_type": "stream",
     "text": [
      "WARNING - Clipping input data to the valid range for imshow with RGB data ([0..1] for floats or [0..255] for integers).\n",
      "WARNING - Clipping input data to the valid range for imshow with RGB data ([0..1] for floats or [0..255] for integers).\n",
      "WARNING - Clipping input data to the valid range for imshow with RGB data ([0..1] for floats or [0..255] for integers).\n",
      "WARNING - Clipping input data to the valid range for imshow with RGB data ([0..1] for floats or [0..255] for integers).\n"
     ]
    },
    {
     "data": {
      "image/png": "[encoded data removed]",
      "text/plain": [
       "<Figure size 1440x1440 with 4 Axes>"
      ]
     },
     "metadata": {
      "needs_background": "light"
     },
     "output_type": "display_data"
    }
   ],
   "source": [
    "import matplotlib.pyplot as plt\n",
    "%matplotlib inline\n",
    "\n",
    "# After pre-processing\n",
    "\n",
    "# Displaying the first frame of the first processed video from the training data\n",
    "\n",
    "fig=plt.figure(figsize=(20,20))\n",
    "columns = 4\n",
    "rows = 1\n",
    "for i in range(1, (columns*rows)+1):\n",
    "    fig.add_subplot(rows, columns, i)\n",
    "    plt.imshow(X_train[79][i-1])\n"
   ]
  },
  {
   "cell_type": "code",
   "execution_count": 23,
   "metadata": {},
   "outputs": [],
   "source": [
    "X_valid = videos_to_frames(valid_files)\n",
    "y_valid = valid_targets#to_categorical(valid_targets, num_classes=2)\n",
    "X_valid = ((X_valid/255.0)-0.5)*2\n",
    "X_valid = X_valid.astype(np.float32)"
   ]
  },
  {
   "cell_type": "code",
   "execution_count": null,
   "metadata": {},
   "outputs": [],
   "source": []
  },
  {
   "cell_type": "code",
   "execution_count": 60,
   "metadata": {},
   "outputs": [],
   "source": [
    "X_test = videos_to_frames(test_files)\n",
    "y_test = test_targets#to_categorical(test_targets, num_classes=2)\n",
    "X_test = ((X_test/255.0)-0.5)*2\n",
    "X_test = X_test.astype(np.float32)"
   ]
  },
  {
   "cell_type": "markdown",
   "metadata": {},
   "source": [
    "## Network Architecture\n",
    "    Used Resnet50 to extract feature from the images.\n",
    "    Each image in the sequence will be passed to the network and then all the features are concatenated.\n",
    "    These features are then given to the ConvLSTM2D\n",
    "    After ConvLSTM2D used Dense layers to finally get the target label."
   ]
  },
  {
   "cell_type": "code",
   "execution_count": 26,
   "metadata": {
    "scrolled": true
   },
   "outputs": [
    {
     "name": "stdout",
     "output_type": "stream",
     "text": [
      "(None, 8, 10, 2048) before\n",
      "(None, 1, 8, 10, 2048)\n"
     ]
    },
    {
     "name": "stderr",
     "output_type": "stream",
     "text": [
      "/anaconda/envs/azureml_py36/lib/python3.6/site-packages/ipykernel_launcher.py:15: UserWarning: Update your `Model` call to the Keras 2 API: `Model(Tensor(\"in..., outputs=Tensor(\"re...)`\n",
      "  from ipykernel import kernelapp as app\n"
     ]
    },
    {
     "name": "stdout",
     "output_type": "stream",
     "text": [
      "Model: \"model_2\"\n",
      "__________________________________________________________________________________________________\n",
      "Layer (type)                    Output Shape         Param #     Connected to                     \n",
      "==================================================================================================\n",
      "input_2 (InputLayer)            (None, 4, 240, 320,  0                                            \n",
      "__________________________________________________________________________________________________\n",
      "lambda_1 (Lambda)               (None, 240, 320, 3)  0           input_2[0][0]                    \n",
      "__________________________________________________________________________________________________\n",
      "lambda_2 (Lambda)               (None, 240, 320, 3)  0           input_2[0][0]                    \n",
      "__________________________________________________________________________________________________\n",
      "lambda_3 (Lambda)               (None, 240, 320, 3)  0           input_2[0][0]                    \n",
      "__________________________________________________________________________________________________\n",
      "lambda_4 (Lambda)               (None, 240, 320, 3)  0           input_2[0][0]                    \n",
      "__________________________________________________________________________________________________\n",
      "model_1 (Model)                 (None, 1, 8, 10, 204 23587712    lambda_1[0][0]                   \n",
      "                                                                 lambda_2[0][0]                   \n",
      "                                                                 lambda_3[0][0]                   \n",
      "                                                                 lambda_4[0][0]                   \n",
      "__________________________________________________________________________________________________\n",
      "concatenate_1 (Concatenate)     (None, 4, 8, 10, 204 0           model_1[1][0]                    \n",
      "                                                                 model_1[2][0]                    \n",
      "                                                                 model_1[3][0]                    \n",
      "                                                                 model_1[4][0]                    \n",
      "__________________________________________________________________________________________________\n",
      "conv_lst_m2d_1 (ConvLSTM2D)     (None, 4, 8, 10, 15) 1114080     concatenate_1[0][0]              \n",
      "__________________________________________________________________________________________________\n",
      "batch_normalization_1 (BatchNor (None, 4, 8, 10, 15) 60          conv_lst_m2d_1[0][0]             \n",
      "__________________________________________________________________________________________________\n",
      "conv_lst_m2d_2 (ConvLSTM2D)     (None, 4, 8, 10, 10) 9040        batch_normalization_1[0][0]      \n",
      "__________________________________________________________________________________________________\n",
      "batch_normalization_2 (BatchNor (None, 4, 8, 10, 10) 40          conv_lst_m2d_2[0][0]             \n",
      "__________________________________________________________________________________________________\n",
      "conv_lst_m2d_3 (ConvLSTM2D)     (None, 8, 10, 5)     2720        batch_normalization_2[0][0]      \n",
      "__________________________________________________________________________________________________\n",
      "batch_normalization_3 (BatchNor (None, 8, 10, 5)     20          conv_lst_m2d_3[0][0]             \n",
      "__________________________________________________________________________________________________\n",
      "flatten_1 (Flatten)             (None, 400)          0           batch_normalization_3[0][0]      \n",
      "__________________________________________________________________________________________________\n",
      "dense_1 (Dense)                 (None, 100)          40100       flatten_1[0][0]                  \n",
      "__________________________________________________________________________________________________\n",
      "batch_normalization_4 (BatchNor (None, 100)          400         dense_1[0][0]                    \n",
      "__________________________________________________________________________________________________\n",
      "dense_2 (Dense)                 (None, 10)           1010        batch_normalization_4[0][0]      \n",
      "__________________________________________________________________________________________________\n",
      "batch_normalization_5 (BatchNor (None, 10)           40          dense_2[0][0]                    \n",
      "__________________________________________________________________________________________________\n",
      "dense_3 (Dense)                 (None, 1)            11          batch_normalization_5[0][0]      \n",
      "==================================================================================================\n",
      "Total params: 24,755,233\n",
      "Trainable params: 1,167,241\n",
      "Non-trainable params: 23,587,992\n",
      "__________________________________________________________________________________________________\n"
     ]
    }
   ],
   "source": [
    "import keras\n",
    "import tensorflow as tf\n",
    "from keras.models import Sequential, Model\n",
    "from keras.callbacks import ModelCheckpoint\n",
    "from keras.layers.core import Dense, Dropout\n",
    "from keras.applications.resnet50 import ResNet50\n",
    "from keras.layers import Conv3D, MaxPooling3D, GlobalAveragePooling3D, BatchNormalization, Input, Lambda, LSTM, ConvLSTM2D, BatchNormalization, Reshape, Flatten\n",
    "\n",
    "restnet = ResNet50(include_top=False, weights='imagenet', input_shape = X_train.shape[2:], pooling='avg')\n",
    "\n",
    "output = restnet.layers[-2].output\n",
    "print(output.shape,'before')\n",
    "output = Reshape((1,8,10,2048), input_shape = (None, 8, 10, 2048))(output) #tf.keras.backend.expand_dims(output, axis = 1)\n",
    "print(output.shape)\n",
    "restnet = Model(restnet.input, output=output)\n",
    "for layer in restnet.layers:\n",
    "  layer.trainable = False\n",
    "\n",
    "# model = Sequential()\n",
    "branch_outputs = []\n",
    "input = Input(shape = (X_train.shape[1:]))\n",
    "for i in range(4):\n",
    "  out = Lambda(lambda x: x[:, i])(input)\n",
    "  out = restnet(out)\n",
    "  branch_outputs.append(out)\n",
    "\n",
    "out = keras.layers.Concatenate(axis = 1)(branch_outputs)\n",
    "out = ConvLSTM2D(15, kernel_size=(3, 3), padding=\"same\", return_sequences=True)(out)\n",
    "out = BatchNormalization()(out)\n",
    "out = ConvLSTM2D(10, kernel_size=(3, 3), padding=\"same\", return_sequences=True)(out)\n",
    "out = BatchNormalization()(out)\n",
    "out = ConvLSTM2D(5, kernel_size=(3, 3), padding=\"same\", return_sequences=False)(out)\n",
    "out = BatchNormalization()(out)\n",
    "\n",
    "out = Flatten()(out)\n",
    "out = Dense(100, activation = 'relu')(out)\n",
    "out = BatchNormalization()(out)\n",
    "out = Dense(10, activation = 'relu')(out)\n",
    "out = BatchNormalization()(out)\n",
    "out = Dense(1, activation = 'sigmoid')(out)\n",
    "model = Model(inputs=input, outputs=out)\n",
    "\n",
    "# Compiling the model\n",
    "model.compile(loss='binary_crossentropy', optimizer = keras.optimizers.Adam(lr=0.001), metrics=['accuracy'])\n",
    "model.summary()\n",
    "# Saving the model that performed the best on the validation set\n",
    "# checkpoint = ModelCheckpoint(filepath='Model_3.weights.best.hdf5', save_best_only=True, verbose=1)\n",
    "\n",
    "# # Training the model for 40 epochs\n",
    "# history = model.fit(X_train, y_train, batch_size=4, epochs=30, \n",
    "#                     validation_data=(X_valid, y_valid), verbose=2, callbacks=[checkpoint])"
   ]
  },
  {
   "cell_type": "code",
   "execution_count": 27,
   "metadata": {},
   "outputs": [
    {
     "name": "stdout",
     "output_type": "stream",
     "text": [
      "Accuracy on test data: 77.78%\n"
     ]
    }
   ],
   "source": [
    "model.load_weights('Model_3.weights.best.hdf5')\n",
    "\n",
    "# Testing the model on the Test data\n",
    "(loss, accuracy) = model.evaluate(X_test, y_test, batch_size=2, verbose=0)\n",
    "\n",
    "print('Accuracy on test data: {:.2f}%'.format(accuracy * 100))"
   ]
  },
  {
   "cell_type": "markdown",
   "metadata": {},
   "source": [
    "Another function to take the frames from longer video to test. It will take one video and returns the frames. We have to specify how many frames should be skipped.\n",
    "Here due to less resource availabily I have taken only 4 frames per second."
   ]
  },
  {
   "cell_type": "code",
   "execution_count": 61,
   "metadata": {},
   "outputs": [],
   "source": [
    "import os\n",
    "import cv2\n",
    "import numpy as np\n",
    "from skvideo.utils import rgb2gray\n",
    "from PIL import Image\n",
    "from imutils.video import count_frames\n",
    "\n",
    "def Tvideo_to_frames(video_path):\n",
    "      skip_frames = 6\n",
    "      data = np.array([])\n",
    "      videoCapture = cv2.VideoCapture(video_path)\n",
    "      videoCapture.set(cv2.CAP_PROP_POS_MSEC,1)\n",
    "      flag, frame = videoCapture.read()\n",
    "      Height, Width, C = frame.shape\n",
    "      count, C = 0, 3\n",
    "      print(video_path)\n",
    "      frame_count = count_frames(video_path, override=False)\n",
    "      for i in range(frame_count-1):\n",
    "          flag, frame = videoCapture.read()\n",
    "          if flag:\n",
    "            image = frame.copy()\n",
    "          else:\n",
    "            print('failed !!!',count)\n",
    "          # image = cv2.resize(image, (Height, Width), interpolation=cv2.INTER_LINEAR)\n",
    "          if flag:\n",
    "              if count == 0:\n",
    "                  data1 = image.reshape(1,Height,Width,C)\n",
    "              else:\n",
    "                if count % skip_frames == 0:\n",
    "                  # print(count)\n",
    "                  data1 = np.concatenate((data1, image.reshape(1,Height,Width,C)))\n",
    "          else:\n",
    "              image = np.zeros((1,Height,Width,C))\n",
    "              data1 = np.concatenate((data1,image))\n",
    "          count += 1\n",
    "      data = np.array(data1)\n",
    "      return data"
   ]
  },
  {
   "cell_type": "code",
   "execution_count": null,
   "metadata": {},
   "outputs": [],
   "source": []
  },
  {
   "cell_type": "code",
   "execution_count": 62,
   "metadata": {
    "scrolled": true
   },
   "outputs": [
    {
     "name": "stdout",
     "output_type": "stream",
     "text": [
      "/mnt/batch/tasks/shared/LS_root/mounts/clusters/compute-device/code/users/smamidala318/test_videoout.mp4\n"
     ]
    },
    {
     "data": {
      "text/plain": [
       "(892, 240, 320, 3)"
      ]
     },
     "execution_count": 62,
     "metadata": {},
     "output_type": "execute_result"
    }
   ],
   "source": [
    "Test_video_path = '/mnt/batch/tasks/shared/LS_root/mounts/clusters/compute-device/code/users/smamidala318/test_videoout.mp4'\n",
    "Test_video = Tvideo_to_frames(Test_video_path)\n",
    "Test_video.shape\n",
    "# X_Test = ((Test_video/255.0).astype(np.float32)-0.5)*2"
   ]
  },
  {
   "cell_type": "code",
   "execution_count": 63,
   "metadata": {},
   "outputs": [
    {
     "name": "stdout",
     "output_type": "stream",
     "text": [
      "0 4\n",
      "0.70000076\n",
      "4 8\n",
      "8 12\n",
      "12 16\n",
      "16 20\n",
      "20 24\n",
      "24 28\n",
      "28 32\n",
      "32 36\n",
      "36 40\n",
      "40 44\n",
      "44 48\n",
      "48 52\n",
      "52 56\n",
      "56 60\n",
      "60 64\n",
      "64 68\n",
      "68 72\n",
      "72 76\n",
      "76 80\n",
      "80 84\n",
      "84 88\n",
      "88 92\n",
      "92 96\n",
      "96 100\n",
      "100 104\n",
      "104 108\n",
      "108 112\n",
      "112 116\n",
      "116 120\n",
      "120 124\n",
      "124 128\n",
      "128 132\n",
      "132 136\n",
      "136 140\n",
      "140 144\n",
      "144 148\n",
      "148 152\n",
      "152 156\n",
      "156 160\n",
      "160 164\n",
      "164 168\n",
      "168 172\n",
      "172 176\n",
      "176 180\n",
      "180 184\n",
      "184 188\n",
      "188 192\n",
      "192 196\n",
      "196 200\n",
      "200 204\n",
      "204 208\n",
      "0.73238146\n",
      "208 212\n",
      "212 216\n",
      "216 220\n",
      "220 224\n",
      "224 228\n",
      "228 232\n",
      "232 236\n",
      "0.71793026\n",
      "236 240\n",
      "0.71942073\n",
      "240 244\n",
      "0.721259\n",
      "244 248\n",
      "0.7583079\n",
      "248 252\n",
      "0.8060023\n",
      "252 256\n",
      "0.7433877\n",
      "256 260\n",
      "260 264\n",
      "0.7376361\n",
      "264 268\n",
      "268 272\n",
      "272 276\n",
      "276 280\n",
      "280 284\n",
      "284 288\n",
      "288 292\n",
      "292 296\n",
      "296 300\n",
      "300 304\n",
      "0.77037233\n",
      "304 308\n",
      "0.763614\n",
      "308 312\n",
      "312 316\n",
      "0.7354041\n",
      "316 320\n",
      "0.7220699\n",
      "320 324\n",
      "324 328\n",
      "328 332\n",
      "332 336\n",
      "336 340\n",
      "340 344\n",
      "344 348\n",
      "348 352\n",
      "352 356\n",
      "356 360\n",
      "360 364\n",
      "364 368\n",
      "368 372\n",
      "372 376\n",
      "376 380\n",
      "380 384\n",
      "384 388\n",
      "388 392\n",
      "392 396\n",
      "396 400\n",
      "400 404\n",
      "404 408\n",
      "408 412\n",
      "412 416\n",
      "416 420\n",
      "420 424\n",
      "424 428\n",
      "428 432\n",
      "432 436\n",
      "0.70769566\n",
      "436 440\n",
      "440 444\n",
      "444 448\n",
      "448 452\n",
      "452 456\n",
      "456 460\n",
      "460 464\n",
      "464 468\n",
      "468 472\n",
      "472 476\n",
      "476 480\n",
      "480 484\n",
      "484 488\n",
      "0.74889284\n",
      "488 492\n",
      "492 496\n",
      "496 500\n",
      "500 504\n",
      "504 508\n",
      "508 512\n",
      "512 516\n",
      "516 520\n",
      "520 524\n",
      "524 528\n",
      "528 532\n",
      "532 536\n",
      "536 540\n",
      "540 544\n",
      "544 548\n",
      "548 552\n",
      "552 556\n",
      "556 560\n",
      "560 564\n",
      "564 568\n",
      "568 572\n",
      "572 576\n",
      "576 580\n",
      "580 584\n",
      "584 588\n",
      "588 592\n",
      "592 596\n",
      "596 600\n",
      "600 604\n",
      "604 608\n",
      "608 612\n",
      "612 616\n",
      "616 620\n",
      "620 624\n",
      "624 628\n",
      "628 632\n",
      "632 636\n",
      "636 640\n",
      "640 644\n",
      "644 648\n",
      "648 652\n",
      "0.7648838\n",
      "652 656\n",
      "656 660\n",
      "660 664\n",
      "664 668\n",
      "668 672\n",
      "672 676\n",
      "676 680\n",
      "680 684\n",
      "684 688\n",
      "688 692\n",
      "692 696\n",
      "696 700\n",
      "700 704\n",
      "704 708\n",
      "708 712\n",
      "712 716\n",
      "716 720\n",
      "720 724\n",
      "724 728\n",
      "728 732\n",
      "732 736\n",
      "736 740\n",
      "740 744\n",
      "744 748\n",
      "748 752\n",
      "752 756\n",
      "756 760\n",
      "760 764\n",
      "764 768\n",
      "768 772\n",
      "772 776\n",
      "776 780\n",
      "780 784\n",
      "784 788\n",
      "788 792\n",
      "792 796\n",
      "796 800\n",
      "800 804\n",
      "0.7111592\n",
      "804 808\n",
      "808 812\n",
      "812 816\n",
      "816 820\n",
      "820 824\n",
      "824 828\n",
      "828 832\n",
      "832 836\n",
      "836 840\n",
      "840 844\n",
      "844 848\n",
      "848 852\n",
      "852 856\n",
      "856 860\n",
      "860 864\n",
      "864 868\n",
      "868 872\n",
      "872 876\n",
      "876 880\n",
      "880 884\n",
      "884 888\n",
      "[0, 51, 58, 59, 60, 61, 62, 63, 65, 75, 76, 78, 79, 108, 121, 162, 200]\n"
     ]
    }
   ],
   "source": [
    "vid_range = []\n",
    "for i in range(222):\n",
    "    print(i*4,i*4+4)\n",
    "    test_data = Test_video[i*4:i*4+4]\n",
    "    test_data = ((test_data/255.0)-0.5)*2\n",
    "    test_data = test_data.astype(np.float32)\n",
    "    prediction = model.predict(np.expand_dims(test_data,axis = 0))\n",
    "    if prediction[0][0] > 0.7:\n",
    "        print(prediction[0][0])\n",
    "        pred = 1\n",
    "        vid_range.append(i)\n",
    "print(vid_range)"
   ]
  },
  {
   "cell_type": "markdown",
   "metadata": {},
   "source": [
    "These are the seconds in the video 0, 51, 58, 59, 60, 61, 62, 63, 65, 75, 76, 78, 79, 108, 121, 162, 200"
   ]
  },
  {
   "cell_type": "code",
   "execution_count": null,
   "metadata": {},
   "outputs": [],
   "source": []
  },
  {
   "cell_type": "code",
   "execution_count": null,
   "metadata": {},
   "outputs": [],
   "source": []
  },
  {
   "cell_type": "code",
   "execution_count": null,
   "metadata": {},
   "outputs": [],
   "source": []
  }
 ],
 "metadata": {
  "kernelspec": {
   "display_name": "Python 3",
   "language": "python",
   "name": "python3"
  },
  "language_info": {
   "codemirror_mode": {
    "name": "ipython",
    "version": 3
   },
   "file_extension": ".py",
   "mimetype": "text/x-python",
   "name": "python",
   "nbconvert_exporter": "python",
   "pygments_lexer": "ipython3",
   "version": "3.6.9"
  }
 },
 "nbformat": 4,
 "nbformat_minor": 4
}
